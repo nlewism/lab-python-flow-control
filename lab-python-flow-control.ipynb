{
 "cells": [
  {
   "cell_type": "markdown",
   "id": "d3bfc191-8885-42ee-b0a0-bbab867c6f9f",
   "metadata": {
    "tags": []
   },
   "source": [
    "# Lab | Flow Control"
   ]
  },
  {
   "cell_type": "markdown",
   "id": "3851fcd1-cf98-4653-9c89-e003b7ec9400",
   "metadata": {},
   "source": [
    "## Exercise: Managing Customer Orders Optimized\n",
    "\n",
    "In the last lab, you were starting an online store that sells various products. To ensure smooth operations, you developed a program that manages customer orders and inventory.\n",
    "\n",
    "You did so without using flow control. Let's go a step further and improve this code.\n",
    "\n",
    "Follow the steps below to complete the exercise:\n",
    "\n",
    "1. Look at your code from the lab data structures, and improve repeated code with loops.\n",
    "\n",
    "2. Instead of asking the user to input the name of three products that a customer wants to order, do the following:\n",
    "    \n",
    "    a. Prompt the user to enter the name of a product that a customer wants to order.\n",
    "    \n",
    "    b. Add the product name to the \"customer_orders\" set.\n",
    "    \n",
    "    c. Ask the user if they want to add another product (yes/no).\n",
    "    \n",
    "    d. Continue the loop until the user does not want to add another product.\n",
    "\n",
    "3. Instead of updating the inventory by subtracting 1 from the quantity of each product, only do it for  the products that were ordered (those in \"customer_orders\")."
   ]
  },
  {
   "cell_type": "code",
   "execution_count": 1,
   "id": "ad781b05",
   "metadata": {},
   "outputs": [
    {
     "name": "stdout",
     "output_type": "stream",
     "text": [
      "Number of t-shirt available: 10\n",
      "Product t-shirt has 10 in stock\n",
      "Number of mug available: 10\n",
      "Product mug has 10 in stock\n",
      "Number of hat available: 10\n",
      "Product hat has 10 in stock\n",
      "Number of book available: 10\n",
      "Product book has 10 in stock\n",
      "Number of keychain available: 10\n",
      "Product keychain has 10 in stock\n",
      "Enter the name of your product mug\n",
      "Would you like to add another product ?  Type y for 'yes' or n for 'no' y/n  y\n",
      "Enter the name of your product book\n",
      "Would you like to add another product ?  Type y for 'yes' or n for 'no' y/n  dcssd\n",
      "Would you like to add another product ?  Type y for 'yes' or n for 'no' y/n  csdcsdcs\n",
      "Would you like to add another product ?  Type y for 'yes' or n for 'no' y/n  yes\n",
      "Would you like to add another product ?  Type y for 'yes' or n for 'no' y/n  y\n",
      "Enter the name of your product keychain\n",
      "Would you like to add another product ?  Type y for 'yes' or n for 'no' y/n  y\n",
      "Enter the name of your product hat\n",
      "Would you like to add another product ?  Type y for 'yes' or n for 'no' y/n  n\n",
      "Thank you for your order!\n",
      "{'mug', 'keychain', 'book', 'hat'}\n",
      "Order Statistics:\n",
      "Total Products Ordered: 4\n",
      "Percentage of Products Ordered: 8.0% \n",
      "{'t-shirt': 10, 'mug': 9, 'hat': 9, 'book': 9, 'keychain': 9}\n"
     ]
    }
   ],
   "source": [
    "products = [\"t-shirt\", \"mug\", \"hat\", \"book\", \"keychain\"]\n",
    "inventory = dict()\n",
    "inventory = {}\n",
    "\n",
    "for product in products:\n",
    "    quantity = input(f'Number of {product} available: ')\n",
    "    \n",
    "    while not quantity.isdigit():\n",
    "        quantity = input(f'Number of {product} available, please type a digit: ')\n",
    "    inventory[product] = int(quantity)\n",
    "    #inventory.update({product:int(quantity)})\n",
    "    print(f'Product {product} has {quantity} in stock')\n",
    "    \n",
    "    \n",
    "customer_orders = set() # create customer cart\n",
    "    \n",
    "x = True\n",
    "while x == True:\n",
    "      order = input('Enter the name of your product ')# ask for user input\n",
    "      while order not in products or order in customer_orders: # input validation \n",
    "        order = input(f'Please type a product in {products}') # ask for user input\n",
    "      else:\n",
    "        customer_orders.add(order)\n",
    "        if len(customer_orders) == len(products):\n",
    "          print('No more products to order')\n",
    "          x = False\n",
    "        else:\n",
    "          upsell = input(\"Would you like to add another product ?  Type y for 'yes' or n for 'no' y/n  \")\n",
    "          while upsell != 'y' and upsell != 'n':\n",
    "            upsell = input(\"Would you like to add another product ?  Type y for 'yes' or n for 'no' y/n  \")\n",
    "          else:\n",
    "             if upsell == 'n':\n",
    "              x = False\n",
    "              print('Thank you for your order!' )\n",
    "    \n",
    "print(customer_orders)\n",
    "\n",
    "total_purchase = len(customer_orders)\n",
    "quantity_of_products = sum(inventory.values())\n",
    "order_percentual = (total_purchase/quantity_of_products)*100\n",
    "statistics_tuple = (total_purchase,order_percentual)\n",
    "\n",
    "print(f'''Order Statistics:\n",
    "Total Products Ordered: {statistics_tuple[0]}\n",
    "Percentage of Products Ordered: {statistics_tuple[1]}% ''')\n",
    "\n",
    "for product in customer_orders:\n",
    "  inventory[product] -= 1\n",
    "\n",
    "print(inventory)"
   ]
  },
  {
   "cell_type": "code",
   "execution_count": null,
   "id": "aeaf1edf",
   "metadata": {},
   "outputs": [],
   "source": []
  }
 ],
 "metadata": {
  "kernelspec": {
   "display_name": "Python 3 (ipykernel)",
   "language": "python",
   "name": "python3"
  },
  "language_info": {
   "codemirror_mode": {
    "name": "ipython",
    "version": 3
   },
   "file_extension": ".py",
   "mimetype": "text/x-python",
   "name": "python",
   "nbconvert_exporter": "python",
   "pygments_lexer": "ipython3",
   "version": "3.11.5"
  }
 },
 "nbformat": 4,
 "nbformat_minor": 5
}
